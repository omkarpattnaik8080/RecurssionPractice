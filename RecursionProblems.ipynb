{
  "nbformat": 4,
  "nbformat_minor": 0,
  "metadata": {
    "colab": {
      "provenance": [],
      "authorship_tag": "ABX9TyPi70Uex1w7ujpgzDxDHeCE",
      "include_colab_link": true
    },
    "kernelspec": {
      "name": "python3",
      "display_name": "Python 3"
    },
    "language_info": {
      "name": "python"
    }
  },
  "cells": [
    {
      "cell_type": "markdown",
      "metadata": {
        "id": "view-in-github",
        "colab_type": "text"
      },
      "source": [
        "<a href=\"https://colab.research.google.com/github/omkarpattnaik8080/RecurssionPractice/blob/main/RecursionProblems.ipynb\" target=\"_parent\"><img src=\"https://colab.research.google.com/assets/colab-badge.svg\" alt=\"Open In Colab\"/></a>"
      ]
    },
    {
      "cell_type": "code",
      "execution_count": null,
      "metadata": {
        "id": "1EqXjYiA6be7"
      },
      "outputs": [],
      "source": [
        "#Q.rite a recursive function to calculate the geometric sum of first n terms with constant ration r, where r lies in the interval (0,1). Note: In mathematics, a geometric\n",
        "#series is a series with a constant ratio between successive terms. For example, if n =\n",
        "#4 and r = (1/2) then output should be (1+1/2+1/4+ 1/8 ) = 1.875\n"
      ]
    },
    {
      "cell_type": "code",
      "source": [
        "def sum(n):\n",
        "\n",
        "    # base case\n",
        "    if n == 0:\n",
        "        return 1\n",
        "\n",
        "    # calculate the sum each time\n",
        "    # and return final answer\n",
        "    return 1 / pow(3, n) + sum(n-1)\n",
        "\n",
        "n = 5;\n",
        "\n",
        "print(sum(n));"
      ],
      "metadata": {
        "colab": {
          "base_uri": "https://localhost:8080/"
        },
        "id": "KB_3fSz966y1",
        "outputId": "8a83db2d-4b56-44a9-f5ba-895bb9507da4"
      },
      "execution_count": null,
      "outputs": [
        {
          "output_type": "stream",
          "name": "stdout",
          "text": [
            "1.4979423868312758\n"
          ]
        }
      ]
    },
    {
      "cell_type": "code",
      "source": [
        "#Q. Write a recursive function to calculate the sum of the positive integers of n+(n-2)+(n4)... (until n−x ≤ 0). For example, if n=6, then output should be 6+(6-2)+(6-4)+(6-6) = 12"
      ],
      "metadata": {
        "id": "oAVHXP-m9-Mr"
      },
      "execution_count": null,
      "outputs": []
    },
    {
      "cell_type": "code",
      "source": [
        "# Define a function named sum_series that calculates the sum of a series of numbers\n",
        "def sum(n):\n",
        "  if n<1:\n",
        "    return 0\n",
        "  else:\n",
        "    return n+ sum(n-2)\n",
        "  print(sum(6))\n"
      ],
      "metadata": {
        "id": "RbtMmXoS-Irw"
      },
      "execution_count": null,
      "outputs": []
    },
    {
      "cell_type": "code",
      "source": [
        "sum(6)"
      ],
      "metadata": {
        "colab": {
          "base_uri": "https://localhost:8080/"
        },
        "id": "HyDUAGIW-I0g",
        "outputId": "dbe822a7-719c-41d6-ae79-bf7a3c83bf47"
      },
      "execution_count": null,
      "outputs": [
        {
          "output_type": "execute_result",
          "data": {
            "text/plain": [
              "12"
            ]
          },
          "metadata": {},
          "execution_count": 6
        }
      ]
    },
    {
      "cell_type": "code",
      "source": [],
      "metadata": {
        "id": "wy7HV84E-I8g"
      },
      "execution_count": null,
      "outputs": []
    },
    {
      "cell_type": "code",
      "source": [],
      "metadata": {
        "id": "DwhD69ou-JAr"
      },
      "execution_count": null,
      "outputs": []
    },
    {
      "cell_type": "code",
      "source": [],
      "metadata": {
        "id": "PASOgPMn-JIA"
      },
      "execution_count": null,
      "outputs": []
    }
  ]
}